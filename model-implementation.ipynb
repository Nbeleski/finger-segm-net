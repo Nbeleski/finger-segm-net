{
 "cells": [
  {
   "cell_type": "code",
   "execution_count": 1,
   "id": "3e4d33d5",
   "metadata": {},
   "outputs": [],
   "source": [
    "import torch\n",
    "\n",
    "from FingerNetV3.model import ShallowUNet, FingerNetV3"
   ]
  },
  {
   "cell_type": "code",
   "execution_count": 13,
   "id": "5cd60e1d",
   "metadata": {},
   "outputs": [
    {
     "name": "stdout",
     "output_type": "stream",
     "text": [
      "torch.Size([1, 1, 512, 512])\n"
     ]
    },
    {
     "data": {
      "text/plain": [
       "[('mnt_s_score', torch.Size([1, 1, 64, 64])),\n",
       " ('mnt_w_score', torch.Size([1, 8, 64, 64])),\n",
       " ('mnt_y_score', torch.Size([1, 8, 64, 64])),\n",
       " ('mnt_o_score', torch.Size([1, 180, 64, 64]))]"
      ]
     },
     "execution_count": 13,
     "metadata": {},
     "output_type": "execute_result"
    }
   ],
   "source": [
    "model = FingerNetV3()\n",
    "model.eval()\n",
    "dummy_input = torch.randn(1, 1, 512, 512)\n",
    "with torch.no_grad():\n",
    "    out = model(dummy_input)\n",
    "\n",
    "print(out['segmentation'].shape)\n",
    "[(k, v.shape) for (k, v) in out['minutiae'].items()]"
   ]
  },
  {
   "cell_type": "code",
   "execution_count": null,
   "id": "e7d3fa42",
   "metadata": {},
   "outputs": [
    {
     "name": "stdout",
     "output_type": "stream",
     "text": [
      "Average FPS on CPU: 2.32\n",
      "Average Inference Time: 0.432\n"
     ]
    }
   ],
   "source": [
    "import time\n",
    "\n",
    "repeats = 10\n",
    "\n",
    "model = FingerNetV3()\n",
    "model.eval()\n",
    "dummy_input = torch.randn(1, 1, 512, 512)\n",
    "with torch.no_grad():\n",
    "    # warm-up\n",
    "    for _ in range(5):\n",
    "        _ = model(dummy_input)\n",
    "    start = time.time()\n",
    "    for _ in range(repeats):\n",
    "        _ = model(dummy_input)\n",
    "    elapsed = time.time() - start\n",
    "fps = repeats / elapsed\n",
    "print(f\"Average FPS on CPU: {fps:.2f}\")\n",
    "print(f\"Average Inference Time: {elapsed/repeats:.3f}\")"
   ]
  },
  {
   "cell_type": "code",
   "execution_count": 21,
   "id": "631601d5",
   "metadata": {},
   "outputs": [],
   "source": [
    "model.eval()\n",
    "\n",
    "dummy_input = torch.randn(1, 1, 512, 512)\n",
    "\n",
    "torch.onnx.export(\n",
    "    model,\n",
    "    dummy_input,\n",
    "    \"fingernetv3.onnx\",\n",
    "    export_params=True,\n",
    "    opset_version=19,\n",
    "    do_constant_folding=True,\n",
    "    input_names=['input'],\n",
    "    output_names=['segmentation', 'score', 'x_offset', 'y_offset', 'angle'],\n",
    "    dynamic_axes={'input': {0: 'batch_size'}, 'segmentation': {0: 'batch_size'},\n",
    "                  'score': {0: 'batch_size'}, 'x_offset': {0: 'batch_size'},\n",
    "                  'y_offset': {0: 'batch_size'}, 'angle': {0: 'batch_size'}}\n",
    ")"
   ]
  },
  {
   "cell_type": "code",
   "execution_count": 29,
   "id": "90af0d5c",
   "metadata": {},
   "outputs": [
    {
     "name": "stdout",
     "output_type": "stream",
     "text": [
      "Average FPS (ONNX Runtime, CPU): 3.26\n",
      "Average Inference Time: 0.306 sec\n"
     ]
    }
   ],
   "source": [
    "import onnxruntime as ort\n",
    "import numpy as np\n",
    "import time\n",
    "\n",
    "repeats = 10\n",
    "session = ort.InferenceSession(\"fingernetv3.onnx\", providers=['CPUExecutionProvider'])\n",
    "\n",
    "input_name = session.get_inputs()[0].name\n",
    "dummy_input = np.random.randn(1, 1, 512, 512).astype(np.float32)\n",
    "\n",
    "# warm-up\n",
    "for _ in range(5):\n",
    "    _ = session.run(None, {input_name: dummy_input})\n",
    "\n",
    "start = time.time()\n",
    "for _ in range(repeats):\n",
    "    _ = session.run(None, {input_name: dummy_input})\n",
    "elapsed = time.time() - start\n",
    "\n",
    "fps = repeats / elapsed\n",
    "print(f\"Average FPS (ONNX Runtime, CPU): {fps:.2f}\")\n",
    "print(f\"Average Inference Time: {elapsed/repeats:.3f} sec\")\n"
   ]
  }
 ],
 "metadata": {
  "kernelspec": {
   "display_name": "torch-env",
   "language": "python",
   "name": "python3"
  },
  "language_info": {
   "codemirror_mode": {
    "name": "ipython",
    "version": 3
   },
   "file_extension": ".py",
   "mimetype": "text/x-python",
   "name": "python",
   "nbconvert_exporter": "python",
   "pygments_lexer": "ipython3",
   "version": "3.12.3"
  }
 },
 "nbformat": 4,
 "nbformat_minor": 5
}
